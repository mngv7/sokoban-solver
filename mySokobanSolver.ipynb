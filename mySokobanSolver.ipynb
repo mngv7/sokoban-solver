{
 "cells": [
  {
   "cell_type": "markdown",
   "id": "9809a5ee-f970-4170-9ea5-19306c95c685",
   "metadata": {},
   "source": [
    "# Sokoban assignment\n",
    "\n",
    "\n",
    "The functions and classes defined in this module will be called by a marker script. \n",
    "You should complete the functions and classes according to their specified interfaces.\n",
    "\n",
    "No partial marks will be awarded for functions that do not meet the specifications\n",
    "of the interfaces. It would not be good to release a malfunctioning robot into a warehouse!\n",
    "\n",
    "Please do NOT change the defined interfaces as we won't be able to test/mark your code.\n",
    "In other words, you must fully adhere to the specifications of the \n",
    "functions, their arguments and returned values.\n",
    "Changing the interface of a function will likely result in a fail \n",
    "for the test of your code. This is not negotiable! \n",
    "\n",
    "You have to make sure that your code works with the files provided \n",
    "(search.ipynb and sokoban.ipynb) as your code will be tested \n",
    "with the original copies of these files. \n",
    "\n",
    "Last modified by 2025-03-25  by will.browne@qut.edu.au \n",
    "- clarifiy some comments, renamed some functions\n",
    "  (and hopefully didn't introduce any bug!)\n",
    "\n"
   ]
  },
  {
   "cell_type": "code",
   "execution_count": 5,
   "id": "d7795574-2d5a-4c6a-ba95-e0a2fd86afa1",
   "metadata": {},
   "outputs": [],
   "source": [
    "# Set up and import useful functionality \n",
    "\n",
    "# https://saturncloud.io/blog/how-to-import-jupyter-notebooks-to-another-jupyter-notebook/\n",
    "# %pip install import_ipynb\n",
    "import import_ipynb # allows you to use other *.ipynb files\n",
    "import search       # such as search tools written by course textbook and similar to week 3\n",
    "import sokoban     # defines the problem domain\n",
    "import itertools # please see https://docs.python.org/3/library/itertools.html\n",
    "import time # please investigate external files\n",
    "\n",
    "# - - - - - - - - - - - - - - - - - - - - - - - - - - - - - - - - - - - - - - -\n",
    "\n"
   ]
  },
  {
   "cell_type": "markdown",
   "id": "87e8e615-2269-4c47-8703-5ed05ee2f7fa",
   "metadata": {},
   "source": [
    "Add the following: \n",
    "\n",
    "    Return the list of the team members of this assignment submission as a list\n",
    "    of triplet of the form (student_number, first_name, last_name)\n",
    "\n",
    "    Simply add in your student number, first name and last name for each team member in the format below\n",
    "    and uncomment the line by removing the # [BTW please google the pioneers of computer science listed]\n",
    "    \n",
    "\n"
   ]
  },
  {
   "cell_type": "code",
   "execution_count": 2,
   "id": "e3caa73b-fffa-492f-ad66-fc4da8be85f6",
   "metadata": {},
   "outputs": [],
   "source": [
    "def my_team():\n",
    "\n",
    "#    return [ (1234567, 'Ada', 'Lovelace'), (1234568, 'Grace', 'Hopper'), (1234569, 'Eva', 'Tardos') ]\n",
    "    raise NotImplementedError()"
   ]
  },
  {
   "cell_type": "markdown",
   "id": "dc7f8e1d-2193-4f5d-8692-b8110d85f4c4",
   "metadata": {},
   "source": [
    "Taboo cells:\n",
    "\n",
    "    Identify the taboo cells of a warehouse. A \"taboo cell\" is by definition\n",
    "    a cell inside a warehouse such that whenever a box get pushed on such \n",
    "    a cell then the puzzle becomes unsolvable. \n",
    "    \n",
    "    Cells outside the warehouse are not taboo. It is a fail to tag one as taboo.\n",
    "    \n",
    "    When determining the taboo cells, you must ignore all the existing boxes, \n",
    "    only consider the walls and the target  cells.  \n",
    "    Use only the following rules to determine the taboo cells;\n",
    "     Rule 1: if a cell is a corner and not a target, then it is a taboo cell.\n",
    "     Rule 2: all the cells between two corners along a wall are taboo if none of \n",
    "             these cells is a target.\n",
    "    \n",
    "    @param warehouse: \n",
    "    \n",
    "        a Warehouse object with a worker inside the warehouse\n",
    "\n",
    "    @return\n",
    "    \n",
    "       A string representing the warehouse with only the wall cells marked with \n",
    "       a '#' and the taboo cells marked with a 'X'.  \n",
    "       The returned string should NOT have marks for the worker, the targets,\n",
    "       and the boxes.  \n"
   ]
  },
  {
   "cell_type": "code",
   "execution_count": null,
   "id": "7e92682e-ce90-4282-8685-a8fc5144f88c",
   "metadata": {},
   "outputs": [],
   "source": [
    "# Hint: This is a great place to start the assignment\n",
    "# Think about the 'out there' world in terms of a grid. \n",
    "# Inspect some of the given warehouses to determine their properties, e.g. are they all square or rectangular\n",
    "# Are there certain cells in the grid that we should not consider in the problem domain, i.e. they are unreachable by the agent?\n",
    "# Identify the subset of cells that should be investigated to whether they are Taboo or not.\n",
    "\n",
    "# Move away from the computer for 15 minutes so that you can get a pen and paper: draw lots of sketches, diagrams and pseudocode (and then come back!)\n",
    "# Write the pseudocode as comments\n",
    "\n",
    "# Then build actual code under the comments testing as you go to check each line works as intended where possible\n",
    "# Programming hint: Either write all code in function below or create and call new functions (e.g. CellReachability(*argument*))\n",
    "# a small number of well-commented new functions is likely the easiest approach for clarity of code, which helps debugging\n",
    "\n",
    "def taboo_cells(warehouse):\n",
    "\n",
    "    ##         \"INSERT YOUR CODE HERE\"    \n",
    "    raise NotImplementedError()"
   ]
  },
  {
   "cell_type": "markdown",
   "id": "60be43b8-aedc-4aab-be72-a8faf0d8d15e",
   "metadata": {},
   "source": [
    "\n",
    "    An instance of the class 'SokobanPuzzle' represents a Sokoban puzzle.\n",
    "    An instance contains information about the walls, the targets, the boxes\n",
    "    and the worker.\n",
    "\n",
    "    Your implementation should be fully compatible with the search functions of \n",
    "    the provided module 'search.ipynb'"
   ]
  },
  {
   "cell_type": "code",
   "execution_count": null,
   "id": "dc044fad-0916-42d1-911a-fcca4d0fb0d6",
   "metadata": {},
   "outputs": [],
   "source": [
    "class SokobanPuzzle(search.Problem):\n",
    "\n",
    "    #\n",
    "    #         \"INSERT YOUR CODE HERE\"\n",
    "    #\n",
    "    #     Revisit the sliding puzzle and the pancake puzzle for inspiration!\n",
    "    #\n",
    "    #     Note that you will need to add several functions to \n",
    "    #     complete this class. For example, a 'result' method is needed\n",
    "    #     to satisfy the interface of 'search.Problem'.\n",
    "    #\n",
    "    #     You are allowed (and encouraged) to use auxiliary functions and classes\n",
    "\n",
    "    \n",
    "    def __init__(self, warehouse):\n",
    "        raise NotImplementedError()\n",
    "\n",
    "    def actions(self, state):\n",
    "        \"\"\"\n",
    "        Return the list of actions that can be executed in the given state.\n",
    "        \n",
    "        \"\"\"\n",
    "        raise NotImplementedError"
   ]
  },
  {
   "cell_type": "markdown",
   "id": "93065c84-6cbd-4e71-aabf-a90d75a6aa37",
   "metadata": {},
   "source": [
    "    Determine if the sequence of actions listed in 'action_seq' is legal or not.\n",
    "    \n",
    "    Important notes:\n",
    "      - a legal sequence of actions does not necessarily solve the puzzle.\n",
    "      - an action is legal even if it pushes a box onto a taboo cell.\n",
    "        \n",
    "    @param warehouse: a valid Warehouse object\n",
    "\n",
    "    @param action_seq: a sequence of legal actions.\n",
    "           For example, ['Left', 'Down', Down','Right', 'Up', 'Down']\n",
    "           \n",
    "    @return\n",
    "        The string 'Impossible', if one of the action was not valid.\n",
    "           For example, if the agent tries to push two boxes at the same time,\n",
    "                        or push a box into a wall.\n",
    "        Otherwise, if all actions were successful, return                 \n",
    "               A string representing the state of the puzzle after applying\n",
    "               the sequence of actions.  This must be the same string as the\n",
    "               string returned by the method  Warehouse.__str__()"
   ]
  },
  {
   "cell_type": "code",
   "execution_count": null,
   "id": "1f5e931a-1a7d-435f-b9bf-7388e6f47d14",
   "metadata": {},
   "outputs": [],
   "source": [
    "# Problem domains addressed by AI have *hard* and *soft* constraints\n",
    "# Identify the hard constraints in this problem's definition\n",
    "\n",
    "def check_elem_action_seq(warehouse, action_seq):\n",
    "\n",
    "    \n",
    "    ##         \"INSERT YOUR CODE HERE\"\n",
    "    \n",
    "    raise NotImplementedError()"
   ]
  },
  {
   "cell_type": "markdown",
   "id": "f5ea60fd-8760-4505-9f27-ef80d1323904",
   "metadata": {},
   "source": [
    "    This function analyses the given warehouse.\n",
    "    It returns the two items. The first item is an action sequence solution. \n",
    "    The second item is the total cost of this action sequence.\n",
    "    \n",
    "    @param \n",
    "     warehouse: a valid Warehouse object\n",
    "\n",
    "    @return\n",
    "    \n",
    "        If puzzle cannot be solved \n",
    "            return 'Impossible', None\n",
    "        \n",
    "        If a solution was found, \n",
    "            return S, C \n",
    "            where S is a list of actions that solves\n",
    "            the given puzzle coded with 'Left', 'Right', 'Up', 'Down'\n",
    "            For example, ['Left', 'Down', Down','Right', 'Up', 'Down']\n",
    "            If the puzzle is already in a goal state, simply return []\n",
    "            C is the total cost of the action sequence C"
   ]
  },
  {
   "cell_type": "code",
   "execution_count": null,
   "id": "d97e9c54-197b-47d5-b69d-bb788c040962",
   "metadata": {},
   "outputs": [],
   "source": [
    "# Now consider the weights of the boxes being pushed\n",
    "# Determine how this changes the cost function in the graph search\n",
    "\n",
    "def solve_weighted_sokoban(warehouse):\n",
    "\n",
    "    \n",
    "    raise NotImplementedError()"
   ]
  }
 ],
 "metadata": {
  "kernelspec": {
   "display_name": "Python 3",
   "language": "python",
   "name": "python3"
  },
  "language_info": {
   "codemirror_mode": {
    "name": "ipython",
    "version": 3
   },
   "file_extension": ".py",
   "mimetype": "text/x-python",
   "name": "python",
   "nbconvert_exporter": "python",
   "pygments_lexer": "ipython3",
   "version": "3.13.2"
  }
 },
 "nbformat": 4,
 "nbformat_minor": 5
}
